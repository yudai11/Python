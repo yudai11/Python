{
 "cells": [
  {
   "cell_type": "code",
   "execution_count": 33,
   "metadata": {},
   "outputs": [
    {
     "name": "stdout",
     "output_type": "stream",
     "text": [
      "1: 0\n",
      "\n",
      "1: 0\n",
      "2: 7.0\n",
      "3: 8.615384615384615\n",
      "4: 9.532544378698224\n",
      "5: 10.137915339098772\n",
      "6: 10.56762718392213\n",
      "7: 10.898174756863174\n",
      "8: 11.152442120663977\n",
      "9: 11.359758717484905\n",
      "10: 11.53518045325646\n",
      "11: 11.683614229678543\n",
      "12: 11.809212040497227\n",
      "13: 11.915487111189963\n",
      "14: 12.005412171006892\n",
      "15: 12.081918927083287\n",
      "16: 12.152540548076878\n",
      "17: 12.217729736686348\n",
      "18: 12.27790437232586\n",
      "19: 12.333450189839256\n",
      "20: 12.384723252159315\n",
      "21: 12.432052232762446\n",
      "22: 12.475740522549952\n",
      "23: 12.516068174661495\n",
      "24: 12.553293699687535\n",
      "25: 12.587655722788494\n",
      "26: 12.619374513343226\n"
     ]
    }
   ],
   "source": [
    "\n",
    "\n",
    "def print_list(my_list):\n",
    "    for i, item in enumerate(my_list, 1):\n",
    "        print(f\"{i}: {item}\")\n",
    "\n",
    "my_list = []\n",
    "my_list.append(0)\n",
    "print_list(my_list)\n",
    "print()\n",
    "\n",
    "N=25\n",
    "\n",
    "for i in range (N, 0, -1):\n",
    "    total = 0\n",
    "    for j in range (13):\n",
    "        # print(j, end=\"\\n\\n\")\n",
    "        if my_list[N-i] < j+1:\n",
    "            total += j+1\n",
    "        else:\n",
    "            total += my_list[N-i]\n",
    "    exp = total / 13\n",
    "    my_list.append(exp)\n",
    "\n",
    "\n",
    "for i, item in enumerate(my_list, 1):\n",
    "    print(f\"{i}: {item}\")\n"
   ]
  },
  {
   "cell_type": "code",
   "execution_count": 28,
   "metadata": {},
   "outputs": [
    {
     "name": "stdout",
     "output_type": "stream",
     "text": [
      "6.0\n"
     ]
    }
   ],
   "source": [
    "total =0\n",
    "for j in range (13):\n",
    "    total += j\n",
    "\n",
    "exp = total / 13\n",
    "print(exp)\n",
    "    "
   ]
  }
 ],
 "metadata": {
  "kernelspec": {
   "display_name": "Python 3",
   "language": "python",
   "name": "python3"
  },
  "language_info": {
   "codemirror_mode": {
    "name": "ipython",
    "version": 3
   },
   "file_extension": ".py",
   "mimetype": "text/x-python",
   "name": "python",
   "nbconvert_exporter": "python",
   "pygments_lexer": "ipython3",
   "version": "3.11.1"
  }
 },
 "nbformat": 4,
 "nbformat_minor": 2
}
