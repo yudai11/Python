{
 "cells": [
  {
   "cell_type": "code",
   "execution_count": 1,
   "metadata": {},
   "outputs": [
    {
     "name": "stdout",
     "output_type": "stream",
     "text": [
      "Estimate = 17.050, CI = (17.036,17.065)\n"
     ]
    }
   ],
   "source": [
    "import numpy as np\n",
    "from numpy import pi\n",
    "c = (2*pi)**(3/2)\n",
    "H = lambda x: c*np.sqrt(np.abs(np.sum(x,axis=1)))\n",
    "N = 10**6\n",
    "z = 1.96\n",
    "x = np.random.randn(N,3)\n",
    "y = H(x)\n",
    "mY = np.mean(y)\n",
    "sY = np.std(y)\n",
    "RE = sY/mY/np.sqrt(N)\n",
    "print('Estimate = {:3.3f}, CI = ({:3.3f},{:3.3f})'.format(\n",
    "mY, mY*(1-z*RE), mY*(1+z*RE)))"
   ]
  }
 ],
 "metadata": {
  "kernelspec": {
   "display_name": "base",
   "language": "python",
   "name": "python3"
  },
  "language_info": {
   "codemirror_mode": {
    "name": "ipython",
    "version": 3
   },
   "file_extension": ".py",
   "mimetype": "text/x-python",
   "name": "python",
   "nbconvert_exporter": "python",
   "pygments_lexer": "ipython3",
   "version": "3.11.9"
  }
 },
 "nbformat": 4,
 "nbformat_minor": 2
}
