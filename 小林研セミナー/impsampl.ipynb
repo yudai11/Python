{
 "cells": [
  {
   "cell_type": "code",
   "execution_count": 1,
   "metadata": {},
   "outputs": [
    {
     "name": "stdout",
     "output_type": "stream",
     "text": [
      "hatmu_b = 106.268, CI = (78.998,133.538), RE =  0.131\n"
     ]
    }
   ],
   "source": [
    "import numpy as np\n",
    "from numpy import exp, sqrt, sin, pi, log, cos\n",
    "from numpy.random import rand\n",
    "np.random.seed(1018)\n",
    "b = 1000\n",
    "H = lambda x1, x2: (2*b)**2 * exp(-sqrt(x1**2+x2**2)/4)*(sin(2*sqrt(\n",
    "x1**2+x2**2))+1)*(x1**2 + x2**2 < b**2)\n",
    "f = 1/((2*b)**2)\n",
    "N = 10**6\n",
    "X1 = -b + 2*b*rand(N,1)\n",
    "X2 = -b + 2*b*rand(N,1)\n",
    "Z = H(X1,X2)\n",
    "estCMC = np.mean(Z).item()\n",
    "# 相対誤差の計算\n",
    "RECMC = np.std(Z)/estCMC/sqrt(N).item()\n",
    "print('hatmu_b = {:3.3f}, CI = ({:3.3f},{:3.3f}), RE = {: 3.3f}'.format(estCMC ,estCMC*(1-1.96*\n",
    "RECMC), estCMC*(1+1.96*RECMC),RECMC))"
   ]
  },
  {
   "cell_type": "code",
   "execution_count": 21,
   "metadata": {},
   "outputs": [
    {
     "name": "stdout",
     "output_type": "stream",
     "text": [
      "hatmu = 100.976, CI = (100.799,101.154), RE =  0.001\n"
     ]
    }
   ],
   "source": [
    "np.random.seed(1018)\n",
    "lam = 0.1\n",
    "N = 10**6\n",
    "b = 1000\n",
    "g = lambda x1, x2: lam*exp(-sqrt(x1**2 + x2**2)*lam)/sqrt(x1**2 + x2**2)/(2*pi)\n",
    "H = lambda x1, x2: (2*b)**2 * exp(-sqrt(x1**2+x2**2)/4)*(sin(2*sqrt(x1**2+x2**2))+1)*(x1**2 + x2**2 < b**2)\n",
    "# 本当は[-b,b]^2の外で0だがこのときH(x1,x2)<<1なので無視\n",
    "f = 1/((2*b)**2)\n",
    "# [0,1]上の一様分布に従う確率変数をNつずつ生成\n",
    "U = rand(N,1); V = rand(N,1)\n",
    "#逆分布関数法によりExp(lam)に従う確率変数を生成\n",
    "R = -log(U)/lam\n",
    "X1 = R*cos(2*pi*V)\n",
    "X2 = R*sin(2*pi*V)\n",
    "Z = H(X1,X2) * f /g(X1,X2)\n",
    "estIS = np.mean(Z).item()\n",
    "# obtain scalar\n",
    "REIS = np.std(Z)/estIS/sqrt(N).item()\n",
    "print('hatmu = {:3.3f}, CI = ({:3.3f},{:3.3f}), RE = {: 3.3f}'.format(estIS, estIS*(1-1.96*\n",
    "REIS), estIS*(1+1.96*REIS),REIS))"
   ]
  }
 ],
 "metadata": {
  "kernelspec": {
   "display_name": "base",
   "language": "python",
   "name": "python3"
  },
  "language_info": {
   "codemirror_mode": {
    "name": "ipython",
    "version": 3
   },
   "file_extension": ".py",
   "mimetype": "text/x-python",
   "name": "python",
   "nbconvert_exporter": "python",
   "pygments_lexer": "ipython3",
   "version": "3.11.9"
  }
 },
 "nbformat": 4,
 "nbformat_minor": 2
}
