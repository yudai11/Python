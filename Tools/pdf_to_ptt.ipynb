{
 "cells": [
  {
   "cell_type": "code",
   "execution_count": 8,
   "metadata": {},
   "outputs": [
    {
     "ename": "FileNotFoundError",
     "evalue": "[Errno 2] No such file or directory: ''",
     "output_type": "error",
     "traceback": [
      "\u001b[1;31m---------------------------------------------------------------------------\u001b[0m",
      "\u001b[1;31mFileNotFoundError\u001b[0m                         Traceback (most recent call last)",
      "Cell \u001b[1;32mIn[8], line 27\u001b[0m\n\u001b[0;32m     25\u001b[0m pdf_path \u001b[38;5;241m=\u001b[39m \u001b[38;5;124m'\u001b[39m\u001b[38;5;124m0715_mori.pdf\u001b[39m\u001b[38;5;124m'\u001b[39m\n\u001b[0;32m     26\u001b[0m pptx_path \u001b[38;5;241m=\u001b[39m \u001b[38;5;124m'\u001b[39m\u001b[38;5;124msub.pptx\u001b[39m\u001b[38;5;124m'\u001b[39m\n\u001b[1;32m---> 27\u001b[0m \u001b[43mpdf_to_pptx\u001b[49m\u001b[43m(\u001b[49m\u001b[43mpdf_path\u001b[49m\u001b[43m)\u001b[49m\n",
      "Cell \u001b[1;32mIn[8], line 19\u001b[0m, in \u001b[0;36mpdf_to_pptx\u001b[1;34m(pdf_path)\u001b[0m\n\u001b[0;32m     17\u001b[0m     \u001b[38;5;66;03m# スライドに画像を追加\u001b[39;00m\n\u001b[0;32m     18\u001b[0m     left \u001b[38;5;241m=\u001b[39m top \u001b[38;5;241m=\u001b[39m Inches(\u001b[38;5;241m0\u001b[39m)\n\u001b[1;32m---> 19\u001b[0m     pic \u001b[38;5;241m=\u001b[39m \u001b[43mslide\u001b[49m\u001b[38;5;241;43m.\u001b[39;49m\u001b[43mshapes\u001b[49m\u001b[38;5;241;43m.\u001b[39;49m\u001b[43madd_picture\u001b[49m\u001b[43m(\u001b[49m\u001b[43mimage\u001b[49m\u001b[38;5;241;43m.\u001b[39;49m\u001b[43mfilename\u001b[49m\u001b[43m,\u001b[49m\u001b[43m \u001b[49m\u001b[43mleft\u001b[49m\u001b[43m,\u001b[49m\u001b[43m \u001b[49m\u001b[43mtop\u001b[49m\u001b[43m,\u001b[49m\u001b[43m \u001b[49m\u001b[43mheight\u001b[49m\u001b[38;5;241;43m=\u001b[39;49m\u001b[43mprs\u001b[49m\u001b[38;5;241;43m.\u001b[39;49m\u001b[43mslide_height\u001b[49m\u001b[43m)\u001b[49m\n\u001b[0;32m     21\u001b[0m \u001b[38;5;66;03m# PPTXファイルを保存\u001b[39;00m\n\u001b[0;32m     22\u001b[0m prs\u001b[38;5;241m.\u001b[39msave()\n",
      "File \u001b[1;32mc:\\Users\\森雄大\\AppData\\Local\\Programs\\Python\\Python312\\Lib\\site-packages\\pptx\\shapes\\shapetree.py:351\u001b[0m, in \u001b[0;36m_BaseGroupShapes.add_picture\u001b[1;34m(self, image_file, left, top, width, height)\u001b[0m\n\u001b[0;32m    340\u001b[0m \u001b[38;5;28;01mdef\u001b[39;00m \u001b[38;5;21madd_picture\u001b[39m(\u001b[38;5;28mself\u001b[39m, image_file, left, top, width\u001b[38;5;241m=\u001b[39m\u001b[38;5;28;01mNone\u001b[39;00m, height\u001b[38;5;241m=\u001b[39m\u001b[38;5;28;01mNone\u001b[39;00m):\n\u001b[0;32m    341\u001b[0m \u001b[38;5;250m    \u001b[39m\u001b[38;5;124;03m\"\"\"Add picture shape displaying image in *image_file*.\u001b[39;00m\n\u001b[0;32m    342\u001b[0m \n\u001b[0;32m    343\u001b[0m \u001b[38;5;124;03m    *image_file* can be either a path to a file (a string) or a file-like\u001b[39;00m\n\u001b[1;32m   (...)\u001b[0m\n\u001b[0;32m    349\u001b[0m \u001b[38;5;124;03m    without regard to its native aspect ratio.\u001b[39;00m\n\u001b[0;32m    350\u001b[0m \u001b[38;5;124;03m    \"\"\"\u001b[39;00m\n\u001b[1;32m--> 351\u001b[0m     image_part, rId \u001b[38;5;241m=\u001b[39m \u001b[38;5;28;43mself\u001b[39;49m\u001b[38;5;241;43m.\u001b[39;49m\u001b[43mpart\u001b[49m\u001b[38;5;241;43m.\u001b[39;49m\u001b[43mget_or_add_image_part\u001b[49m\u001b[43m(\u001b[49m\u001b[43mimage_file\u001b[49m\u001b[43m)\u001b[49m\n\u001b[0;32m    352\u001b[0m     pic \u001b[38;5;241m=\u001b[39m \u001b[38;5;28mself\u001b[39m\u001b[38;5;241m.\u001b[39m_add_pic_from_image_part(image_part, rId, left, top, width, height)\n\u001b[0;32m    353\u001b[0m     \u001b[38;5;28mself\u001b[39m\u001b[38;5;241m.\u001b[39m_recalculate_extents()\n",
      "File \u001b[1;32mc:\\Users\\森雄大\\AppData\\Local\\Programs\\Python\\Python312\\Lib\\site-packages\\pptx\\parts\\slide.py:39\u001b[0m, in \u001b[0;36mBaseSlidePart.get_or_add_image_part\u001b[1;34m(self, image_file)\u001b[0m\n\u001b[0;32m     32\u001b[0m \u001b[38;5;28;01mdef\u001b[39;00m \u001b[38;5;21mget_or_add_image_part\u001b[39m(\u001b[38;5;28mself\u001b[39m, image_file):\n\u001b[0;32m     33\u001b[0m \u001b[38;5;250m    \u001b[39m\u001b[38;5;124;03m\"\"\"Return `(image_part, rId)` pair corresponding to `image_file`.\u001b[39;00m\n\u001b[0;32m     34\u001b[0m \n\u001b[0;32m     35\u001b[0m \u001b[38;5;124;03m    The returned |ImagePart| object contains the image in `image_file` and is\u001b[39;00m\n\u001b[0;32m     36\u001b[0m \u001b[38;5;124;03m    related to this slide with the key `rId`. If either the image part or\u001b[39;00m\n\u001b[0;32m     37\u001b[0m \u001b[38;5;124;03m    relationship already exists, they are reused, otherwise they are newly created.\u001b[39;00m\n\u001b[0;32m     38\u001b[0m \u001b[38;5;124;03m    \"\"\"\u001b[39;00m\n\u001b[1;32m---> 39\u001b[0m     image_part \u001b[38;5;241m=\u001b[39m \u001b[38;5;28;43mself\u001b[39;49m\u001b[38;5;241;43m.\u001b[39;49m\u001b[43m_package\u001b[49m\u001b[38;5;241;43m.\u001b[39;49m\u001b[43mget_or_add_image_part\u001b[49m\u001b[43m(\u001b[49m\u001b[43mimage_file\u001b[49m\u001b[43m)\u001b[49m\n\u001b[0;32m     40\u001b[0m     rId \u001b[38;5;241m=\u001b[39m \u001b[38;5;28mself\u001b[39m\u001b[38;5;241m.\u001b[39mrelate_to(image_part, RT\u001b[38;5;241m.\u001b[39mIMAGE)\n\u001b[0;32m     41\u001b[0m     \u001b[38;5;28;01mreturn\u001b[39;00m image_part, rId\n",
      "File \u001b[1;32mc:\\Users\\森雄大\\AppData\\Local\\Programs\\Python\\Python312\\Lib\\site-packages\\pptx\\package.py:36\u001b[0m, in \u001b[0;36mPackage.get_or_add_image_part\u001b[1;34m(self, image_file)\u001b[0m\n\u001b[0;32m     30\u001b[0m \u001b[38;5;28;01mdef\u001b[39;00m \u001b[38;5;21mget_or_add_image_part\u001b[39m(\u001b[38;5;28mself\u001b[39m, image_file):\n\u001b[0;32m     31\u001b[0m \u001b[38;5;250m    \u001b[39m\u001b[38;5;124;03m\"\"\"\u001b[39;00m\n\u001b[0;32m     32\u001b[0m \u001b[38;5;124;03m    Return an |ImagePart| object containing the image in *image_file*. If\u001b[39;00m\n\u001b[0;32m     33\u001b[0m \u001b[38;5;124;03m    the image part already exists in this package, it is reused,\u001b[39;00m\n\u001b[0;32m     34\u001b[0m \u001b[38;5;124;03m    otherwise a new one is created.\u001b[39;00m\n\u001b[0;32m     35\u001b[0m \u001b[38;5;124;03m    \"\"\"\u001b[39;00m\n\u001b[1;32m---> 36\u001b[0m     \u001b[38;5;28;01mreturn\u001b[39;00m \u001b[38;5;28;43mself\u001b[39;49m\u001b[38;5;241;43m.\u001b[39;49m\u001b[43m_image_parts\u001b[49m\u001b[38;5;241;43m.\u001b[39;49m\u001b[43mget_or_add_image_part\u001b[49m\u001b[43m(\u001b[49m\u001b[43mimage_file\u001b[49m\u001b[43m)\u001b[49m\n",
      "File \u001b[1;32mc:\\Users\\森雄大\\AppData\\Local\\Programs\\Python\\Python312\\Lib\\site-packages\\pptx\\package.py:153\u001b[0m, in \u001b[0;36m_ImageParts.get_or_add_image_part\u001b[1;34m(self, image_file)\u001b[0m\n\u001b[0;32m    146\u001b[0m \u001b[38;5;28;01mdef\u001b[39;00m \u001b[38;5;21mget_or_add_image_part\u001b[39m(\u001b[38;5;28mself\u001b[39m, image_file):\n\u001b[0;32m    147\u001b[0m \u001b[38;5;250m    \u001b[39m\u001b[38;5;124;03m\"\"\"Return |ImagePart| object containing the image in `image_file`.\u001b[39;00m\n\u001b[0;32m    148\u001b[0m \n\u001b[0;32m    149\u001b[0m \u001b[38;5;124;03m    `image_file` can be either a path to an image file or a file-like object\u001b[39;00m\n\u001b[0;32m    150\u001b[0m \u001b[38;5;124;03m    containing an image. If an image part containing this same image already exists,\u001b[39;00m\n\u001b[0;32m    151\u001b[0m \u001b[38;5;124;03m    that instance is returned, otherwise a new image part is created.\u001b[39;00m\n\u001b[0;32m    152\u001b[0m \u001b[38;5;124;03m    \"\"\"\u001b[39;00m\n\u001b[1;32m--> 153\u001b[0m     image \u001b[38;5;241m=\u001b[39m \u001b[43mImage\u001b[49m\u001b[38;5;241;43m.\u001b[39;49m\u001b[43mfrom_file\u001b[49m\u001b[43m(\u001b[49m\u001b[43mimage_file\u001b[49m\u001b[43m)\u001b[49m\n\u001b[0;32m    154\u001b[0m     image_part \u001b[38;5;241m=\u001b[39m \u001b[38;5;28mself\u001b[39m\u001b[38;5;241m.\u001b[39m_find_by_sha1(image\u001b[38;5;241m.\u001b[39msha1)\n\u001b[0;32m    155\u001b[0m     \u001b[38;5;28;01mreturn\u001b[39;00m ImagePart\u001b[38;5;241m.\u001b[39mnew(\u001b[38;5;28mself\u001b[39m\u001b[38;5;241m.\u001b[39m_package, image) \u001b[38;5;28;01mif\u001b[39;00m image_part \u001b[38;5;129;01mis\u001b[39;00m \u001b[38;5;28;01mNone\u001b[39;00m \u001b[38;5;28;01melse\u001b[39;00m image_part\n",
      "File \u001b[1;32mc:\\Users\\森雄大\\AppData\\Local\\Programs\\Python\\Python312\\Lib\\site-packages\\pptx\\parts\\image.py:162\u001b[0m, in \u001b[0;36mImage.from_file\u001b[1;34m(cls, image_file)\u001b[0m\n\u001b[0;32m    156\u001b[0m \u001b[38;5;250m\u001b[39m\u001b[38;5;124;03m\"\"\"\u001b[39;00m\n\u001b[0;32m    157\u001b[0m \u001b[38;5;124;03mReturn a new |Image| object loaded from *image_file*, which can be\u001b[39;00m\n\u001b[0;32m    158\u001b[0m \u001b[38;5;124;03meither a path (string) or a file-like object.\u001b[39;00m\n\u001b[0;32m    159\u001b[0m \u001b[38;5;124;03m\"\"\"\u001b[39;00m\n\u001b[0;32m    160\u001b[0m \u001b[38;5;28;01mif\u001b[39;00m is_string(image_file):\n\u001b[0;32m    161\u001b[0m     \u001b[38;5;66;03m# treat image_file as a path\u001b[39;00m\n\u001b[1;32m--> 162\u001b[0m     \u001b[38;5;28;01mwith\u001b[39;00m \u001b[38;5;28;43mopen\u001b[39;49m\u001b[43m(\u001b[49m\u001b[43mimage_file\u001b[49m\u001b[43m,\u001b[49m\u001b[43m \u001b[49m\u001b[38;5;124;43m\"\u001b[39;49m\u001b[38;5;124;43mrb\u001b[39;49m\u001b[38;5;124;43m\"\u001b[39;49m\u001b[43m)\u001b[49m \u001b[38;5;28;01mas\u001b[39;00m f:\n\u001b[0;32m    163\u001b[0m         blob \u001b[38;5;241m=\u001b[39m f\u001b[38;5;241m.\u001b[39mread()\n\u001b[0;32m    164\u001b[0m     filename \u001b[38;5;241m=\u001b[39m os\u001b[38;5;241m.\u001b[39mpath\u001b[38;5;241m.\u001b[39mbasename(image_file)\n",
      "\u001b[1;31mFileNotFoundError\u001b[0m: [Errno 2] No such file or directory: ''"
     ]
    }
   ],
   "source": [
    "from pdf2image import convert_from_path\n",
    "from pptx import Presentation\n",
    "from pptx.util import Inches\n",
    "\n",
    "def pdf_to_pptx(pdf_path):\n",
    "    # PDFを画像に変換\n",
    "    images = convert_from_path(pdf_path)\n",
    "\n",
    "    # 新しいPPTXプレゼンテーションを作成\n",
    "    prs = Presentation()\n",
    "\n",
    "    for image in images:\n",
    "        # 新しいスライドを追加\n",
    "        slide_layout = prs.slide_layouts[5]  # レイアウト「5」は空のスライドです\n",
    "        slide = prs.slides.add_slide(slide_layout)\n",
    "\n",
    "        # スライドに画像を追加\n",
    "        left = top = Inches(0)\n",
    "        pic = slide.shapes.add_picture(image.filename, left, top, height=prs.slide_height)\n",
    "\n",
    "    # PPTXファイルを保存\n",
    "    prs.save()\n",
    "\n",
    "# 使用例\n",
    "pdf_path = '0715_mori.pdf'\n",
    "pptx_path = 'sub.pptx'\n",
    "pdf_to_pptx(pdf_path)\n"
   ]
  }
 ],
 "metadata": {
  "kernelspec": {
   "display_name": "Python 3",
   "language": "python",
   "name": "python3"
  },
  "language_info": {
   "codemirror_mode": {
    "name": "ipython",
    "version": 3
   },
   "file_extension": ".py",
   "mimetype": "text/x-python",
   "name": "python",
   "nbconvert_exporter": "python",
   "pygments_lexer": "ipython3",
   "version": "3.12.3"
  }
 },
 "nbformat": 4,
 "nbformat_minor": 2
}
