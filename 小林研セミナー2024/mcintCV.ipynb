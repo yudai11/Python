{
 "cells": [
  {
   "cell_type": "code",
   "execution_count": 1,
   "metadata": {},
   "outputs": [
    {
     "name": "stdout",
     "output_type": "stream",
     "text": [
      "Crude Estimate = 17.035, CI = (17.021,17.049)\n",
      "CtVar Estimate = 17.034, CI = (17.022,17.046), Corr = 0.481\n"
     ]
    }
   ],
   "source": [
    "import numpy as np\n",
    "from numpy import pi\n",
    "\n",
    "np.random.seed(1016)\n",
    "\n",
    "c = (2*pi)**(3/2)\n",
    "H = lambda x: c*np.sqrt(np.abs(np.sum(x,axis=1)))\n",
    "N = 10**6\n",
    "z = 1.96\n",
    "x = np.random.randn(N,3)\n",
    "y = H(x)\n",
    "mY = np.mean(y)\n",
    "sY = np.std(y)\n",
    "RE = sY/mY/np.sqrt(N)\n",
    "\n",
    "\n",
    "# Control Variable\n",
    "Yc = np.sum(x**2, axis=1) # control variable data\n",
    "yc = 3\n",
    "# true expectation of control variable\n",
    "C = np.cov(y,Yc) # sample covariance matrix\n",
    "cor = C[0][1]/np.sqrt(C[0][0]*C[1][1])\n",
    "alpha = C[0][1]/C[1][1]\n",
    "est = np.mean(y-alpha*(Yc-yc))\n",
    "RECV = np.sqrt((1-cor**2)*C[0][0]/N)/est\n",
    "#relative error\n",
    "\n",
    "print('Crude Estimate = {:3.3f}, CI = ({:3.3f},{:3.3f})'.format(\n",
    "mY, mY*(1-z*RE), mY*(1+z*RE)))\n",
    "\n",
    "print('CtVar Estimate = {:3.3f}, CI = ({:3.3f},{:3.3f}), Corr = {:3.3f}'.\n",
    "format(est, est*(1-z*RECV), est*(1+z*RECV),cor))\n"
   ]
  }
 ],
 "metadata": {
  "kernelspec": {
   "display_name": "base",
   "language": "python",
   "name": "python3"
  },
  "language_info": {
   "codemirror_mode": {
    "name": "ipython",
    "version": 3
   },
   "file_extension": ".py",
   "mimetype": "text/x-python",
   "name": "python",
   "nbconvert_exporter": "python",
   "pygments_lexer": "ipython3",
   "version": "3.11.9"
  }
 },
 "nbformat": 4,
 "nbformat_minor": 2
}
