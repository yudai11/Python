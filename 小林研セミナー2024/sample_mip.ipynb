{
 "cells": [
  {
   "cell_type": "code",
   "execution_count": null,
   "metadata": {},
   "outputs": [],
   "source": [
    "# !pip install mip \n",
    "from mip import Model, maximize, minimize, xsum\n"
   ]
  },
  {
   "cell_type": "code",
   "execution_count": null,
   "metadata": {},
   "outputs": [],
   "source": [
    "from mip import Model, maximize, minimize, xsum\n",
    "\n",
    "# mip = Model()\n",
    "\n",
    "m = Model()  # 数理モデル\n",
    "# 変数\n",
    "s = \"x\"+str(1)\n",
    "x1 = m.add_var(s)\n",
    "y = m.add_var(\"y\")\n",
    "# 目的関数\n",
    "z = 10 * x1 + 100 * y\n",
    "m.objective = maximize(z)\n",
    "# m.objective = maximize(100 * x + 100 * y)\n",
    "# 制約条件\n",
    "xx = [x1,y]\n",
    "a = [xx[0] + 2 * xx[1] <= 16]\n",
    "m += a[0]  # 材料Aの上限\n",
    "m += 3 * x1 + y <= 18  # 材料Bの上限\n",
    "m.optimize()  # ソルバーの実行\n",
    "print(x1.x, y.x)\n",
    "\n",
    "# print(\"obj\", m.objective.x, \"x\", x.x, \"y\", y.x)"
   ]
  },
  {
   "cell_type": "markdown",
   "metadata": {},
   "source": [
    "# a"
   ]
  }
 ],
 "metadata": {
  "kernelspec": {
   "display_name": "base",
   "language": "python",
   "name": "python3"
  },
  "language_info": {
   "name": "python",
   "version": "3.11.9"
  }
 },
 "nbformat": 4,
 "nbformat_minor": 2
}
