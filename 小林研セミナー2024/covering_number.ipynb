{
 "cells": [
  {
   "cell_type": "markdown",
   "metadata": {},
   "source": [
    "## READ ME\n",
    "- ランダム行列の生成は$A = \\begin{pmatrix}\n",
    "U(-h,h) & U(-h,h) \\\\\n",
    "U(-h,h) & U(-h,h)\n",
    "\\end{pmatrix}$で$A$を生成し，$X = A {}^t\\!A$として正定値行列を生成"
   ]
  },
  {
   "cell_type": "markdown",
   "metadata": {},
   "source": [
    "## ライブラリのimport"
   ]
  },
  {
   "cell_type": "code",
   "execution_count": 94,
   "metadata": {},
   "outputs": [],
   "source": [
    "# !pip install mip \n",
    "from mip import Model, maximize, minimize, xsum\n",
    "import numpy as np\n",
    "from numpy import pi\n",
    "from numpy.random import rand, randn\n",
    "from numpy.linalg import solve, det\n",
    "from scipy.linalg import sqrtm\n",
    "import math\n"
   ]
  },
  {
   "cell_type": "markdown",
   "metadata": {},
   "source": [
    "## 定数の設定"
   ]
  },
  {
   "cell_type": "code",
   "execution_count": 95,
   "metadata": {},
   "outputs": [],
   "source": [
    "p = 2 # 行列の次元\n",
    "N = 100 # データ数\n",
    "lam = 0.01 # 正則化パラメータ\n",
    "delta = 10.0\n",
    "epsilon = 1.0\n",
    "h = 2.0 #U(-h,h)"
   ]
  },
  {
   "cell_type": "markdown",
   "metadata": {},
   "source": [
    "## Wasserstein距離を計算する関数"
   ]
  },
  {
   "cell_type": "code",
   "execution_count": 96,
   "metadata": {},
   "outputs": [],
   "source": [
    "def wasserstein(x, y):\n",
    "    z = sqrtm(sqrtm(x) @ y @ sqrtm(x))\n",
    "    res = np.trace(x) + np.trace(y) - 2 * np.trace(z)\n",
    "    return res"
   ]
  },
  {
   "cell_type": "markdown",
   "metadata": {},
   "source": [
    "## Entropy正則化されたWasserstein距離を計算する関数"
   ]
  },
  {
   "cell_type": "code",
   "execution_count": 97,
   "metadata": {},
   "outputs": [],
   "source": [
    "def reg_wasserstein(x, y):\n",
    "    lam = 0.1 \n",
    "    M_lam = sqrtm(lam * lam * np.eye(p) + sqrtm(x) @ y @ sqrtm(x))\n",
    "    res = np.trace(x) + np.trace(y) - 2.0 * np.trace(M_lam) - 2.0 * lam * math.log(det(M_lam - lam * np.eye(p)),math.e) - 2.0 * lam * p * math.log(2.0 * math.pi * lam, math.e) - 4.0 * lam * p * math.log(2.0 * math.pi, math.e) - 2.0 * lam * p + 2.0 * lam * math.log(det(x @ y),math.e) + 4.0 * lam * p * (math.log(2.0 * math.pi, math.e) + 1.0)\n",
    "    return res"
   ]
  },
  {
   "cell_type": "code",
   "execution_count": 98,
   "metadata": {},
   "outputs": [
    {
     "name": "stdout",
     "output_type": "stream",
     "text": [
      "0.0\n"
     ]
    }
   ],
   "source": [
    "## test\n",
    "# p = 2\n",
    "print(wasserstein(np.eye(p),np.eye(p)))"
   ]
  },
  {
   "cell_type": "code",
   "execution_count": 99,
   "metadata": {},
   "outputs": [
    {
     "name": "stdout",
     "output_type": "stream",
     "text": [
      "0.6058665937452075\n"
     ]
    }
   ],
   "source": [
    "print(reg_wasserstein(np.eye(p),np.eye(p)))"
   ]
  },
  {
   "cell_type": "markdown",
   "metadata": {},
   "source": [
    "## 乱数の生成と距離グラフの生成"
   ]
  },
  {
   "cell_type": "markdown",
   "metadata": {},
   "source": [
    "### wasserstein"
   ]
  },
  {
   "cell_type": "code",
   "execution_count": 100,
   "metadata": {},
   "outputs": [
    {
     "name": "stdout",
     "output_type": "stream",
     "text": [
      "[[0, 3, 10, 18, 30, 51, 60], [1, 14], [2, 7, 11, 17, 30, 38, 39, 60, 91], [0, 3, 18, 30], [4, 7, 23, 24, 30, 37, 53, 68, 69, 70], [5, 29, 34, 47, 52, 62, 73], [6, 10, 12, 26, 45, 86, 99], [2, 4, 7, 30, 31, 39, 54, 58, 93], [8, 12, 24, 33, 44, 45, 54, 67, 70, 71, 87], [9, 13, 29, 47, 73, 76, 85, 90], [0, 6, 10, 24, 26, 51, 82, 86], [2, 11, 17, 21, 38, 39, 61, 84, 91], [6, 8, 12, 24, 30, 45, 66, 67, 70, 71], [9, 13, 22, 25, 27, 47, 59, 73, 76, 81, 85, 88, 89, 90, 94], [1, 14, 38, 42, 52, 81], [15, 28, 75, 95, 99], [16, 21, 61, 64, 80, 93], [2, 11, 17, 38, 41, 60, 77, 91], [0, 3, 18], [19, 27, 33, 43, 44, 46, 54, 58, 59, 67, 72, 74, 81, 88, 89, 94, 98], [20, 99], [11, 16, 21, 39, 61, 80, 91], [13, 22, 25, 27, 47, 59, 73, 76, 81, 88, 89, 94], [4, 23, 37, 58, 63, 68, 97], [4, 8, 10, 12, 24, 30, 45, 53, 68, 69, 70, 82, 86], [13, 22, 25, 27, 47, 59, 73, 76, 85, 88, 89, 90, 94, 96], [6, 10, 26, 50, 51, 79, 99], [13, 19, 22, 25, 27, 43, 46, 47, 58, 59, 72, 81, 88, 89, 90, 94, 98], [15, 28, 34, 36, 56, 62, 71, 75, 92, 95], [5, 9, 29, 34, 36, 47, 62, 75, 85, 92], [0, 2, 3, 4, 7, 12, 24, 30, 51, 60, 70], [7, 31, 39, 48, 49, 58, 61, 64, 80, 93], [32, 35, 36, 46, 56, 72, 74, 92], [8, 19, 33, 35, 40, 44, 46, 67, 72, 74, 98], [5, 28, 29, 34, 62, 75, 92], [32, 33, 35, 56, 67], [28, 29, 32, 36, 56, 75, 92], [4, 23, 37, 53, 68, 69, 70, 87, 97], [2, 11, 14, 17, 38, 39, 60, 77, 84, 91], [2, 7, 11, 21, 31, 38, 39, 61, 84, 91], [33, 40, 74], [17, 41, 60, 77], [14, 42, 50, 51, 60, 66], [19, 27, 43, 46, 52, 59, 66, 67, 81, 88, 89, 94], [8, 19, 33, 44, 46, 49, 54, 58, 67, 72, 88, 89, 98], [6, 8, 12, 24, 45, 53, 68, 70, 86, 87], [19, 27, 32, 33, 43, 44, 46, 54, 59, 67, 72, 74, 81, 88, 89, 90, 94, 98], [5, 9, 13, 22, 25, 27, 29, 47, 59, 62, 73, 76, 85, 90, 94], [31, 48, 49, 58, 63, 93, 96], [31, 44, 48, 49, 58, 63, 93, 96, 98], [26, 42, 50, 51, 66, 79, 99], [0, 10, 26, 30, 42, 50, 51, 60, 79], [5, 14, 43, 52, 62, 66, 81, 88, 95], [4, 24, 37, 45, 53, 68, 69, 70, 82], [7, 8, 19, 44, 46, 54, 58, 67, 88, 98], [55, 87, 97], [28, 32, 35, 36, 56, 71, 92], [57, 65], [7, 19, 23, 27, 31, 44, 48, 49, 54, 58, 63, 98], [13, 19, 22, 25, 27, 43, 46, 47, 59, 72, 73, 81, 88, 89, 90, 94], [0, 2, 17, 30, 38, 41, 42, 51, 60, 77], [11, 16, 21, 31, 39, 61, 80, 91, 93], [5, 28, 29, 34, 47, 52, 62, 75, 92], [23, 48, 49, 58, 63, 98], [16, 31, 64, 80, 93], [57, 65, 76], [12, 42, 43, 50, 52, 66, 67, 71, 92, 95, 99], [8, 12, 19, 33, 35, 43, 44, 46, 54, 66, 67, 71, 72, 88], [4, 23, 24, 37, 45, 53, 68, 69, 70, 87, 97], [4, 24, 37, 53, 68, 69, 70, 82], [4, 8, 12, 24, 30, 37, 45, 53, 68, 69, 70, 87], [8, 12, 28, 56, 66, 67, 71, 92, 95], [19, 27, 32, 33, 44, 46, 59, 67, 72, 74, 88, 89, 90, 94, 98], [5, 9, 13, 22, 25, 47, 59, 73, 76, 85], [19, 32, 33, 40, 46, 72, 74, 89, 90, 94, 98], [15, 28, 29, 34, 36, 62, 75, 92, 95], [9, 13, 22, 25, 47, 65, 73, 76, 85], [17, 38, 41, 60, 77], [78, 82], [26, 50, 51, 79, 99], [16, 21, 31, 61, 64, 80, 83, 93], [13, 14, 19, 22, 27, 43, 46, 52, 59, 81, 88, 89, 94], [10, 24, 53, 69, 78, 82], [80, 83], [11, 38, 39, 84, 91], [9, 13, 25, 29, 47, 73, 76, 85, 90, 94], [6, 10, 24, 45, 86], [8, 37, 45, 55, 68, 70, 87, 97], [13, 19, 22, 25, 27, 43, 44, 46, 52, 54, 59, 67, 72, 81, 88, 89, 94, 98], [13, 19, 22, 25, 27, 43, 44, 46, 59, 72, 74, 81, 88, 89, 90, 94, 98], [9, 13, 25, 27, 46, 47, 59, 72, 74, 85, 89, 90, 94], [2, 11, 17, 21, 38, 39, 61, 84, 91], [28, 29, 32, 34, 36, 56, 62, 66, 71, 75, 92, 95], [7, 16, 31, 48, 49, 61, 64, 80, 93, 96], [13, 19, 22, 25, 27, 43, 46, 47, 59, 72, 74, 81, 85, 88, 89, 90, 94, 98], [15, 28, 52, 66, 71, 75, 92, 95, 99], [25, 48, 49, 93, 96], [23, 37, 55, 68, 87, 97], [19, 27, 33, 44, 46, 49, 54, 58, 63, 72, 74, 88, 89, 94, 98], [6, 15, 20, 26, 50, 66, 79, 95, 99]]\n",
      "100 100\n"
     ]
    }
   ],
   "source": [
    "P = []\n",
    "nbh_w = [[] for _ in range(N)]\n",
    "\n",
    "i = 0\n",
    "np.random.seed(123)\n",
    "while i < N:\n",
    "    # rand_a = rand(3,1)\n",
    "    a = np.array([[rand(1) * 2.0 * h - h, rand(1) * 2.0 * h - h],[rand(1) * 2.0 * h - h, rand(1) * 2.0 * h * h]])\n",
    "    a = a.reshape((2,2)) \n",
    "    v = a @ a.T\n",
    "    # B(I,delta)内になければskip\n",
    "    if det(v) < 0.0001:\n",
    "        continue \n",
    "    if wasserstein(np.eye(p),v) > delta :\n",
    "        continue\n",
    "    \n",
    "    for j in range(0,i):\n",
    "        w_dist = wasserstein(P[j],v)\n",
    "        if w_dist < epsilon:\n",
    "            nbh_w[i].append(j)\n",
    "            nbh_w[j].append(i)\n",
    "            \n",
    "    # print(i)    \n",
    "    nbh_w[i].append(i)\n",
    "            \n",
    "    i += 1\n",
    "    P.append(v)\n",
    "\n",
    "print(nbh_w)\n",
    "print(len(P),len(nbh_w))\n",
    "    "
   ]
  },
  {
   "cell_type": "markdown",
   "metadata": {},
   "source": [
    "### regularized wasserstein"
   ]
  },
  {
   "cell_type": "code",
   "execution_count": 101,
   "metadata": {},
   "outputs": [
    {
     "name": "stdout",
     "output_type": "stream",
     "text": [
      "[[0], [1], [2], [3], [4], [5], [6], [7], [8, 78], [9], [10], [11], [12], [13], [14], [15], [16], [17], [18, 43, 67, 82], [19], [20], [21, 59, 90, 95], [22], [23], [24], [25], [26], [27, 94], [28], [29], [30, 33, 53, 99], [31, 38, 99], [32], [30, 33, 53, 99], [34], [35, 50, 63, 64, 65, 95], [36], [37], [31, 38], [39], [40], [41, 91], [42, 79], [18, 43, 67, 82], [44], [45, 46, 59, 97], [45, 46, 59, 97], [47], [48], [49], [35, 50, 63, 64, 95], [51], [52, 80, 90], [30, 33, 53, 99], [54], [55], [56], [57], [58], [21, 45, 46, 59], [60], [61], [62], [35, 50, 63, 64, 65, 80, 95], [35, 50, 63, 64], [35, 63, 65], [66], [18, 43, 67, 69, 91], [68], [67, 69, 91], [70], [71], [72], [73], [74], [75], [76], [77], [8, 78], [42, 79], [52, 63, 80, 90], [81, 82], [18, 43, 81, 82], [83], [84], [85], [86], [87], [88], [89, 97], [21, 52, 80, 90, 95], [41, 67, 69, 91], [92], [93], [27, 94], [21, 35, 50, 63, 90, 95], [96], [45, 46, 89, 97], [98], [30, 31, 33, 53, 99]]\n",
      "100 100\n"
     ]
    }
   ],
   "source": [
    "P = []\n",
    "nbh_rw = [[] for _ in range(N)]\n",
    "\n",
    "\n",
    "i = 0\n",
    "np.random.seed(123)\n",
    "while i < N:\n",
    "    # rand_a = rand(3,1)\n",
    "    a = np.array([[rand(1) * 2.0 * h, rand(1) * 2.0 * h - h],[rand(1) * 2.0 * h - h, rand(1) * 2.0 *h]])\n",
    "    a = a.reshape((2,2)) \n",
    "    v = a @ a.T\n",
    "    # B(I,delta)内になければskip\n",
    "    if reg_wasserstein(np.eye(p),v) > delta:\n",
    "        continue\n",
    "    \n",
    "    for j in range(0,i):\n",
    "        rw_dist = reg_wasserstein(P[j],v)\n",
    "        if rw_dist < epsilon:\n",
    "            nbh_rw[i].append(j)\n",
    "            nbh_rw[j].append(i)\n",
    "            \n",
    "    # print(i)    \n",
    "    nbh_rw[i].append(i)\n",
    "            \n",
    "    i += 1\n",
    "    P.append(v)\n",
    "\n",
    "print(nbh_rw)\n",
    "print(len(P),len(nbh_rw))\n",
    "    "
   ]
  },
  {
   "cell_type": "markdown",
   "metadata": {},
   "source": [
    "## Covering number"
   ]
  },
  {
   "cell_type": "markdown",
   "metadata": {},
   "source": [
    "### Wasserstein"
   ]
  },
  {
   "cell_type": "code",
   "execution_count": 102,
   "metadata": {},
   "outputs": [],
   "source": [
    "from mip import Model, maximize, minimize, xsum"
   ]
  },
  {
   "cell_type": "code",
   "execution_count": 103,
   "metadata": {},
   "outputs": [
    {
     "name": "stdout",
     "output_type": "stream",
     "text": [
      "15.0\n"
     ]
    }
   ],
   "source": [
    "m = Model()  # 数理モデル\n",
    "x = []\n",
    "# 変数\n",
    "for i in range(N):\n",
    "    s = \"x\"+str(i)\n",
    "    x.append(m.add_var(s, lb=0, var_type=\"I\"))\n",
    "\n",
    "# 目的関数\n",
    "z = x[0]\n",
    "for i in range(1,N):\n",
    "    z += x[i]\n",
    "\n",
    "m.objective = minimize(z)\n",
    "# m.objective = maximize(100 * x + 100 * y)\n",
    "# 制約条件\n",
    "for i in range(N):\n",
    "    b = 0\n",
    "    for j in nbh_w[i]:\n",
    "        b += x[j]\n",
    "    m += b >= 1\n",
    "    \n",
    "m.optimize()  # ソルバーの実行\n",
    "print(m.objective.x)\n",
    "\n",
    "# print(\"obj\", m.objective.x, \"x\", x.x, \"y\", y.x)"
   ]
  },
  {
   "cell_type": "markdown",
   "metadata": {},
   "source": [
    "### Regularized Wasserstein"
   ]
  },
  {
   "cell_type": "code",
   "execution_count": 104,
   "metadata": {},
   "outputs": [
    {
     "name": "stdout",
     "output_type": "stream",
     "text": [
      "76.0\n"
     ]
    }
   ],
   "source": [
    "m = Model()  # 数理モデル\n",
    "x = []\n",
    "# 変数\n",
    "for i in range(N):\n",
    "    s = \"x\"+str(i)\n",
    "    x.append(m.add_var(s, lb=0, var_type=\"I\"))\n",
    "\n",
    "# 目的関数\n",
    "z = x[0]\n",
    "for i in range(1,N):\n",
    "    z += x[i]\n",
    "\n",
    "m.objective = minimize(z)\n",
    "# m.objective = maximize(100 * x + 100 * y)\n",
    "# 制約条件\n",
    "for i in range(N):\n",
    "    b = 1\n",
    "    for j in nbh_rw[i]:\n",
    "        b += x[j]\n",
    "    m += b >= 2\n",
    "    \n",
    "m.optimize()  # ソルバーの実行\n",
    "print(m.objective.x)"
   ]
  },
  {
   "cell_type": "code",
   "execution_count": null,
   "metadata": {},
   "outputs": [],
   "source": []
  }
 ],
 "metadata": {
  "kernelspec": {
   "display_name": "base",
   "language": "python",
   "name": "python3"
  },
  "language_info": {
   "codemirror_mode": {
    "name": "ipython",
    "version": 3
   },
   "file_extension": ".py",
   "mimetype": "text/x-python",
   "name": "python",
   "nbconvert_exporter": "python",
   "pygments_lexer": "ipython3",
   "version": "3.11.9"
  }
 },
 "nbformat": 4,
 "nbformat_minor": 2
}
