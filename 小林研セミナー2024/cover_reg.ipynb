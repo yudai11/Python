{
 "cells": [
  {
   "cell_type": "code",
   "execution_count": 28,
   "metadata": {},
   "outputs": [
    {
     "name": "stdout",
     "output_type": "stream",
     "text": [
      "203.0\n",
      "202.0\n",
      "189.0\n",
      "200.0\n",
      "195.0\n",
      "202.0\n",
      "210.0\n",
      "207.0\n",
      "202.0\n",
      "196.0\n",
      "reg_wass lam =0.02: mean:200.6 std: 5.7306195127577615\n"
     ]
    }
   ],
   "source": [
    "## ライブラリのimport\n",
    "# !pip install mip \n",
    "from mip import Model, maximize, minimize, xsum\n",
    "import numpy as np\n",
    "from numpy import pi\n",
    "from numpy.random import rand, randn\n",
    "from numpy.linalg import solve, det\n",
    "from scipy.linalg import sqrtm\n",
    "import math\n",
    "import statistics\n",
    "\n",
    "## 定数の設定\n",
    "p = 2 # 行列の次元\n",
    "N = 500 # データ数\n",
    "delta = 10.0\n",
    "epsilon = 1.0\n",
    "lam = 0.02\n",
    "h = 4.0 #U(-h,h)\n",
    "\n",
    "## Function to calculate entropy regularized Wasserstein distance\n",
    "def reg_wasserstein(x, y):\n",
    "    M_lam = sqrtm(lam * lam * np.eye(p) + sqrtm(x) @ y @ sqrtm(x))\n",
    "    res = np.trace(x) + np.trace(y) - 2.0 * np.trace(M_lam) - 2.0 * lam * math.log(det(M_lam - lam * np.eye(p)),math.e) - 2.0 * lam * p * math.log(2.0 * lam, math.e) - 4.0 * lam * p * math.log(2.0 * math.pi, math.e) - 2.0 * lam * p + 2.0 * lam * math.log(det(x @ y),math.e) + 4.0 * lam * p * (math.log(2.0 * math.pi, math.e) + 1.0)\n",
    "    return np.sqrt(res)\n",
    "\n",
    "# 各シードでのカバリングナンバーを格納\n",
    "cn_reg = []\n",
    "\n",
    "for seed in range(10):    \n",
    "    ## 乱数の生成と距離グラフの生成\n",
    "        \n",
    "    ### regularized\n",
    "    P = []\n",
    "    nbh_rw = [[] for _ in range(N)]\n",
    "\n",
    "\n",
    "    i = 0\n",
    "    np.random.seed(seed)\n",
    "    while i < N:\n",
    "        a = np.array([[rand(1) * 2.0 * h - h, rand(1) * 2.0 * h - h],[rand(1) * 2.0 * h - h, rand(1) * 2.0 * h * h]])\n",
    "        a = a.reshape((2,2)) \n",
    "        v = a @ a.T\n",
    "        # Skip if not within B(I,delta)\n",
    "        if reg_wasserstein(np.eye(p),v) > delta:\n",
    "            continue\n",
    "        \n",
    "        for j in range(0,i):\n",
    "            rw_dist = reg_wasserstein(P[j],v)\n",
    "            if rw_dist < epsilon:\n",
    "                nbh_rw[i].append(j)\n",
    "                nbh_rw[j].append(i)\n",
    "                \n",
    "        # print(i)    \n",
    "        nbh_rw[i].append(i)\n",
    "                \n",
    "        i += 1\n",
    "        P.append(v)\n",
    "        \n",
    "    ## Covering number\n",
    "    ### ragularized\n",
    "    m = Model()  # 数理モデル\n",
    "    x = []\n",
    "    # 変数\n",
    "    for i in range(N):\n",
    "        s = \"x\"+str(i)\n",
    "        x.append(m.add_var(s, lb=0, var_type=\"I\"))\n",
    "\n",
    "    # 目的関数\n",
    "    z = x[0]\n",
    "    for i in range(1,N):\n",
    "        z += x[i]\n",
    "\n",
    "    m.objective = minimize(z)\n",
    "    # m.objective = maximize(100 * x + 100 * y)\n",
    "    # 制約条件\n",
    "    for i in range(N):\n",
    "        b = 1\n",
    "        for j in nbh_rw[i]:\n",
    "            b += x[j]\n",
    "        m += b >= 2\n",
    "        \n",
    "    m.optimize()  # ソルバーの実行\n",
    "    print(m.objective.x)\n",
    "    cn_reg.append(m.objective.x)\n",
    "\n",
    "print(\"reg_wass lam =\" + str(lam) +\": mean:\"   + str(statistics.mean(cn_reg)) + \" std: \" + str(statistics.pstdev(cn_reg)))"
   ]
  },
  {
   "cell_type": "code",
   "execution_count": 29,
   "metadata": {},
   "outputs": [
    {
     "name": "stdout",
     "output_type": "stream",
     "text": [
      "reg_wass lam =0.02: mean:200.6 std: 5.7306195127577615\n"
     ]
    }
   ],
   "source": [
    "print(\"reg_wass lam =\" + str(lam) +\": mean:\"   + str(statistics.mean(cn_reg)) + \" std: \" + str(statistics.pstdev(cn_reg)))"
   ]
  },
  {
   "cell_type": "code",
   "execution_count": 30,
   "metadata": {},
   "outputs": [],
   "source": [
    "# a = np.array([[1,0],[0,1]])\n",
    "# a = a.reshape((2,2)) \n",
    "# x = reg_wasserstein(a,a)\n",
    "# print(x)"
   ]
  }
 ],
 "metadata": {
  "kernelspec": {
   "display_name": "base",
   "language": "python",
   "name": "python3"
  },
  "language_info": {
   "codemirror_mode": {
    "name": "ipython",
    "version": 3
   },
   "file_extension": ".py",
   "mimetype": "text/x-python",
   "name": "python",
   "nbconvert_exporter": "python",
   "pygments_lexer": "ipython3",
   "version": "3.11.9"
  }
 },
 "nbformat": 4,
 "nbformat_minor": 2
}
